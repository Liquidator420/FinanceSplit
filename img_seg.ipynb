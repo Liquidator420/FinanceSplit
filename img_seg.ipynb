{
 "cells": [
  {
   "cell_type": "code",
   "execution_count": 76,
   "metadata": {},
   "outputs": [],
   "source": [
    "import cv2\n",
    "import face_recognition\n",
    "import os\n",
    "import shutil"
   ]
  },
  {
   "cell_type": "code",
   "execution_count": 77,
   "metadata": {},
   "outputs": [],
   "source": [
    "refdir = r\"D:\\study\\github\\FinanceSplit\\ref_img\""
   ]
  },
  {
   "cell_type": "code",
   "execution_count": 78,
   "metadata": {},
   "outputs": [],
   "source": [
    "known_face_encodings = []\n",
    "known_face_names = []"
   ]
  },
  {
   "cell_type": "code",
   "execution_count": 79,
   "metadata": {},
   "outputs": [],
   "source": [
    "for filename in os.listdir(refdir):\n",
    "    if filename.endswith(('.jpg', '.png')):\n",
    "        image_path = os.path.join(refdir, filename)\n",
    "        image = face_recognition.load_image_file(image_path)\n",
    "        face_encodings = face_recognition.face_encodings(image)\n",
    "        \n",
    "        if face_encodings:\n",
    "            known_face_encodings.append(face_encodings[0])\n",
    "            known_face_names.append(os.path.splitext(filename)[0])"
   ]
  },
  {
   "cell_type": "code",
   "execution_count": 80,
   "metadata": {},
   "outputs": [
    {
     "data": {
      "text/plain": [
       "['akshit', 'ashiv', 'dograa', 'sachin', 'satyam', 'thakur']"
      ]
     },
     "execution_count": 80,
     "metadata": {},
     "output_type": "execute_result"
    }
   ],
   "source": [
    "known_face_names"
   ]
  },
  {
   "cell_type": "code",
   "execution_count": 81,
   "metadata": {},
   "outputs": [],
   "source": [
    "def process_new_image(image_path):\n",
    "    image = face_recognition.load_image_file(image_path)\n",
    "    face_locations = face_recognition.face_locations(image)\n",
    "    face_encodings = face_recognition.face_encodings(image, face_locations)\n",
    "    \n",
    "    identified_individuals = []\n",
    "    \n",
    "    for face_encoding in face_encodings:\n",
    "        matches = face_recognition.compare_faces(known_face_encodings, face_encoding)\n",
    "        \n",
    "        for i, match in enumerate(matches):\n",
    "            if match:\n",
    "                identified_individuals.append(known_face_names[i])\n",
    "    \n",
    "    return identified_individuals"
   ]
  },
  {
   "cell_type": "code",
   "execution_count": 82,
   "metadata": {},
   "outputs": [],
   "source": [
    "def save_image_to_groups(image_path, identified_individuals, output_dir='output'):\n",
    "    for name in identified_individuals:\n",
    "        individual_dir = os.path.join(output_dir, name)\n",
    "        if not os.path.exists(individual_dir):\n",
    "            os.makedirs(individual_dir)\n",
    "        shutil.copy(image_path, individual_dir)"
   ]
  },
  {
   "cell_type": "code",
   "execution_count": 83,
   "metadata": {},
   "outputs": [],
   "source": [
    "newdir = r'D:\\study\\github\\FinanceSplit\\new_img'"
   ]
  },
  {
   "cell_type": "code",
   "execution_count": 84,
   "metadata": {},
   "outputs": [],
   "source": [
    "for filename in os.listdir(newdir):\n",
    "    if filename.endswith(('.jpg', '.png')):\n",
    "        image_path = os.path.join(newdir, filename)\n",
    "        identified_individuals = process_new_image(image_path)\n",
    "        save_image_to_groups(image_path, identified_individuals)"
   ]
  }
 ],
 "metadata": {
  "kernelspec": {
   "display_name": ".env",
   "language": "python",
   "name": "python3"
  },
  "language_info": {
   "codemirror_mode": {
    "name": "ipython",
    "version": 3
   },
   "file_extension": ".py",
   "mimetype": "text/x-python",
   "name": "python",
   "nbconvert_exporter": "python",
   "pygments_lexer": "ipython3",
   "version": "3.10.11"
  }
 },
 "nbformat": 4,
 "nbformat_minor": 2
}
